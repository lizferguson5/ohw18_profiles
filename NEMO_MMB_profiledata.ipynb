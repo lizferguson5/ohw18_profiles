{
 "cells": [
  {
   "cell_type": "markdown",
   "metadata": {},
   "source": [
    "# NEMO MMB CTDO Profile data"
   ]
  },
  {
   "cell_type": "code",
   "execution_count": 1,
   "metadata": {},
   "outputs": [],
   "source": [
    "import warnings\n",
    "warnings.filterwarnings('ignore')"
   ]
  },
  {
   "cell_type": "code",
   "execution_count": 17,
   "metadata": {},
   "outputs": [],
   "source": [
    "%matplotlib inline\n",
    "\n",
    "import re\n",
    "from urllib.parse import urljoin\n",
    "import requests\n",
    "from bs4 import BeautifulSoup\n",
    "\n",
    "import matplotlib.pyplot as plt\n",
    "import pandas as pd"
   ]
  },
  {
   "cell_type": "markdown",
   "metadata": {},
   "source": [
    "## 1. Retrieve and parse list of all base subdirectories (deployments?)"
   ]
  },
  {
   "cell_type": "markdown",
   "metadata": {},
   "source": [
    "**This web server has restricted access; it's only accessible from the UW APL subdomain.**"
   ]
  },
  {
   "cell_type": "code",
   "execution_count": 85,
   "metadata": {},
   "outputs": [],
   "source": [
    "# base_url = \"http://waves.apl.uw.edu/~mooring/nemo/NEMO_SUBSURFACE_201805/MMP/CTD/\"\n",
    "base_url = \"http://waves.apl.uw.edu/~mooring/nemo/\""
   ]
  },
  {
   "cell_type": "code",
   "execution_count": 86,
   "metadata": {},
   "outputs": [],
   "source": [
    "r = requests.get(base_url)"
   ]
  },
  {
   "cell_type": "code",
   "execution_count": 87,
   "metadata": {},
   "outputs": [],
   "source": [
    "base_soup = BeautifulSoup(r.content, \"lxml\")"
   ]
  },
  {
   "cell_type": "code",
   "execution_count": 89,
   "metadata": {},
   "outputs": [],
   "source": [
    "# Could've stripped \"/\" for clarity. d.text.strip('/')\n",
    "dir_lst = [d.text for d in base_soup.find_all(href=re.compile(r'NEMO[\\w]+'))]"
   ]
  },
  {
   "cell_type": "code",
   "execution_count": 90,
   "metadata": {},
   "outputs": [
    {
     "data": {
      "text/plain": [
       "['NEMO_SUBSURFACE_201705/',\n",
       " 'NEMO_SUBSURFACE_201707/',\n",
       " 'NEMO_SUBSURFACE_201709/',\n",
       " 'NEMO_SUBSURFACE_201805/']"
      ]
     },
     "execution_count": 90,
     "metadata": {},
     "output_type": "execute_result"
    }
   ],
   "source": [
    "dir_lst"
   ]
  },
  {
   "cell_type": "markdown",
   "metadata": {},
   "source": [
    "## 2. Retrieve data files from each subdirectory"
   ]
  },
  {
   "cell_type": "code",
   "execution_count": 99,
   "metadata": {},
   "outputs": [
    {
     "name": "stdout",
     "output_type": "stream",
     "text": [
      "http://waves.apl.uw.edu/~mooring/nemo/NEMO_SUBSURFACE_201705/MMP/CTD/\n",
      "http://waves.apl.uw.edu/~mooring/nemo/NEMO_SUBSURFACE_201707/MMP/CTD/\n",
      "http://waves.apl.uw.edu/~mooring/nemo/NEMO_SUBSURFACE_201709/MMP/CTD/\n",
      "http://waves.apl.uw.edu/~mooring/nemo/NEMO_SUBSURFACE_201805/MMP/CTD/\n"
     ]
    }
   ],
   "source": [
    "csv_url_lst = []\n",
    "for dir_name in dir_lst:\n",
    "    dir_url = f'{base_url}{dir_name}MMP/CTD/'\n",
    "    dir_r = requests.get(dir_url)\n",
    "    print(dir_r.url)\n",
    "    dir_soup = BeautifulSoup(dir_r.content, \"lxml\")\n",
    "    \n",
    "    csv_url_lst += [dir_url+fn.text for fn in dir_soup.find_all(href=re.compile(r'c[\\d]+\\.csv'))]"
   ]
  },
  {
   "cell_type": "code",
   "execution_count": 101,
   "metadata": {},
   "outputs": [],
   "source": [
    "# re.compile('data' + r'(.{12})\\.json')\n",
    "# csv_lst = [d.text for d in soup.find_all(href=re.compile(r'c[\\d]+\\.csv'))]"
   ]
  },
  {
   "cell_type": "code",
   "execution_count": 102,
   "metadata": {},
   "outputs": [
    {
     "data": {
      "text/plain": [
       "(2296,\n",
       " ['http://waves.apl.uw.edu/~mooring/nemo/NEMO_SUBSURFACE_201805/MMP/CTD/c0001194.csv',\n",
       "  'http://waves.apl.uw.edu/~mooring/nemo/NEMO_SUBSURFACE_201805/MMP/CTD/c0001206.csv',\n",
       "  'http://waves.apl.uw.edu/~mooring/nemo/NEMO_SUBSURFACE_201805/MMP/CTD/c0001218.csv',\n",
       "  'http://waves.apl.uw.edu/~mooring/nemo/NEMO_SUBSURFACE_201805/MMP/CTD/c0001219.csv'])"
      ]
     },
     "execution_count": 102,
     "metadata": {},
     "output_type": "execute_result"
    }
   ],
   "source": [
    "len(csv_url_lst), csv_url_lst[-4:]"
   ]
  },
  {
   "cell_type": "markdown",
   "metadata": {},
   "source": [
    "### Retrieve each data file as a data frame while appending into a list of data frames. \n",
    "Then concatenate into single data frame."
   ]
  },
  {
   "cell_type": "code",
   "execution_count": null,
   "metadata": {},
   "outputs": [],
   "source": [
    "dfs = []\n",
    "for csv_url in csv_url_lst:\n",
    "    try:\n",
    "        dfs.append(pd.read_csv(csv_url))\n",
    "    except:\n",
    "        continue\n",
    "\n",
    "df = pd.concat(dfs)"
   ]
  },
  {
   "cell_type": "code",
   "execution_count": 104,
   "metadata": {},
   "outputs": [
    {
     "data": {
      "text/html": [
       "<div>\n",
       "<style scoped>\n",
       "    .dataframe tbody tr th:only-of-type {\n",
       "        vertical-align: middle;\n",
       "    }\n",
       "\n",
       "    .dataframe tbody tr th {\n",
       "        vertical-align: top;\n",
       "    }\n",
       "\n",
       "    .dataframe thead th {\n",
       "        text-align: right;\n",
       "    }\n",
       "</style>\n",
       "<table border=\"1\" class=\"dataframe\">\n",
       "  <thead>\n",
       "    <tr style=\"text-align: right;\">\n",
       "      <th></th>\n",
       "      <th>time</th>\n",
       "      <th>conductivity</th>\n",
       "      <th>temperature</th>\n",
       "      <th>pressure</th>\n",
       "      <th>oxygen</th>\n",
       "    </tr>\n",
       "  </thead>\n",
       "  <tbody>\n",
       "    <tr>\n",
       "      <th>0</th>\n",
       "      <td>1.493762e+09</td>\n",
       "      <td>34.3243</td>\n",
       "      <td>10.8782</td>\n",
       "      <td>2.03</td>\n",
       "      <td>4340</td>\n",
       "    </tr>\n",
       "    <tr>\n",
       "      <th>1</th>\n",
       "      <td>1.493762e+09</td>\n",
       "      <td>34.3244</td>\n",
       "      <td>10.8782</td>\n",
       "      <td>2.30</td>\n",
       "      <td>4330</td>\n",
       "    </tr>\n",
       "    <tr>\n",
       "      <th>2</th>\n",
       "      <td>1.493762e+09</td>\n",
       "      <td>34.3238</td>\n",
       "      <td>10.8767</td>\n",
       "      <td>2.09</td>\n",
       "      <td>4323</td>\n",
       "    </tr>\n",
       "    <tr>\n",
       "      <th>3</th>\n",
       "      <td>1.493762e+09</td>\n",
       "      <td>34.3255</td>\n",
       "      <td>10.8795</td>\n",
       "      <td>1.91</td>\n",
       "      <td>4321</td>\n",
       "    </tr>\n",
       "    <tr>\n",
       "      <th>4</th>\n",
       "      <td>1.493762e+09</td>\n",
       "      <td>34.3224</td>\n",
       "      <td>10.8747</td>\n",
       "      <td>2.26</td>\n",
       "      <td>4320</td>\n",
       "    </tr>\n",
       "  </tbody>\n",
       "</table>\n",
       "</div>"
      ],
      "text/plain": [
       "           time  conductivity  temperature  pressure  oxygen\n",
       "0  1.493762e+09       34.3243      10.8782      2.03    4340\n",
       "1  1.493762e+09       34.3244      10.8782      2.30    4330\n",
       "2  1.493762e+09       34.3238      10.8767      2.09    4323\n",
       "3  1.493762e+09       34.3255      10.8795      1.91    4321\n",
       "4  1.493762e+09       34.3224      10.8747      2.26    4320"
      ]
     },
     "execution_count": 104,
     "metadata": {},
     "output_type": "execute_result"
    }
   ],
   "source": [
    "df.head()"
   ]
  },
  {
   "cell_type": "code",
   "execution_count": 105,
   "metadata": {},
   "outputs": [
    {
     "data": {
      "text/html": [
       "<div>\n",
       "<style scoped>\n",
       "    .dataframe tbody tr th:only-of-type {\n",
       "        vertical-align: middle;\n",
       "    }\n",
       "\n",
       "    .dataframe tbody tr th {\n",
       "        vertical-align: top;\n",
       "    }\n",
       "\n",
       "    .dataframe thead th {\n",
       "        text-align: right;\n",
       "    }\n",
       "</style>\n",
       "<table border=\"1\" class=\"dataframe\">\n",
       "  <thead>\n",
       "    <tr style=\"text-align: right;\">\n",
       "      <th></th>\n",
       "      <th>time</th>\n",
       "      <th>conductivity</th>\n",
       "      <th>temperature</th>\n",
       "      <th>pressure</th>\n",
       "      <th>oxygen</th>\n",
       "    </tr>\n",
       "  </thead>\n",
       "  <tbody>\n",
       "    <tr>\n",
       "      <th>478</th>\n",
       "      <td>1.533701e+09</td>\n",
       "      <td>34.8540</td>\n",
       "      <td>8.9001</td>\n",
       "      <td>21.47</td>\n",
       "      <td>3301</td>\n",
       "    </tr>\n",
       "    <tr>\n",
       "      <th>479</th>\n",
       "      <td>1.533701e+09</td>\n",
       "      <td>34.8533</td>\n",
       "      <td>8.8997</td>\n",
       "      <td>21.47</td>\n",
       "      <td>3301</td>\n",
       "    </tr>\n",
       "    <tr>\n",
       "      <th>480</th>\n",
       "      <td>1.533701e+09</td>\n",
       "      <td>34.8527</td>\n",
       "      <td>8.8990</td>\n",
       "      <td>21.48</td>\n",
       "      <td>3301</td>\n",
       "    </tr>\n",
       "    <tr>\n",
       "      <th>481</th>\n",
       "      <td>1.533701e+09</td>\n",
       "      <td>34.8536</td>\n",
       "      <td>8.9000</td>\n",
       "      <td>21.48</td>\n",
       "      <td>3301</td>\n",
       "    </tr>\n",
       "    <tr>\n",
       "      <th>482</th>\n",
       "      <td>1.533701e+09</td>\n",
       "      <td>34.8538</td>\n",
       "      <td>8.8995</td>\n",
       "      <td>21.49</td>\n",
       "      <td>3300</td>\n",
       "    </tr>\n",
       "  </tbody>\n",
       "</table>\n",
       "</div>"
      ],
      "text/plain": [
       "             time  conductivity  temperature  pressure  oxygen\n",
       "478  1.533701e+09       34.8540       8.9001     21.47    3301\n",
       "479  1.533701e+09       34.8533       8.8997     21.47    3301\n",
       "480  1.533701e+09       34.8527       8.8990     21.48    3301\n",
       "481  1.533701e+09       34.8536       8.9000     21.48    3301\n",
       "482  1.533701e+09       34.8538       8.8995     21.49    3300"
      ]
     },
     "execution_count": 105,
     "metadata": {},
     "output_type": "execute_result"
    }
   ],
   "source": [
    "df.tail()"
   ]
  },
  {
   "cell_type": "markdown",
   "metadata": {},
   "source": [
    "- Now need to convert \"time\" (epoch secs) to a datetime\n",
    "- Also note that three's no salinity; so will have to use the seawater package to convert from conductivity, temp, pressure"
   ]
  },
  {
   "cell_type": "code",
   "execution_count": 107,
   "metadata": {},
   "outputs": [],
   "source": [
    "df['datetime'] = pd.to_datetime(df['time'], unit='s')"
   ]
  },
  {
   "cell_type": "code",
   "execution_count": 108,
   "metadata": {},
   "outputs": [],
   "source": [
    "df.set_index('datetime', inplace=True)"
   ]
  },
  {
   "cell_type": "code",
   "execution_count": 109,
   "metadata": {},
   "outputs": [
    {
     "data": {
      "text/html": [
       "<div>\n",
       "<style scoped>\n",
       "    .dataframe tbody tr th:only-of-type {\n",
       "        vertical-align: middle;\n",
       "    }\n",
       "\n",
       "    .dataframe tbody tr th {\n",
       "        vertical-align: top;\n",
       "    }\n",
       "\n",
       "    .dataframe thead th {\n",
       "        text-align: right;\n",
       "    }\n",
       "</style>\n",
       "<table border=\"1\" class=\"dataframe\">\n",
       "  <thead>\n",
       "    <tr style=\"text-align: right;\">\n",
       "      <th></th>\n",
       "      <th>time</th>\n",
       "      <th>conductivity</th>\n",
       "      <th>temperature</th>\n",
       "      <th>pressure</th>\n",
       "      <th>oxygen</th>\n",
       "    </tr>\n",
       "    <tr>\n",
       "      <th>datetime</th>\n",
       "      <th></th>\n",
       "      <th></th>\n",
       "      <th></th>\n",
       "      <th></th>\n",
       "      <th></th>\n",
       "    </tr>\n",
       "  </thead>\n",
       "  <tbody>\n",
       "    <tr>\n",
       "      <th>2018-08-08 04:06:11.855000019</th>\n",
       "      <td>1.533701e+09</td>\n",
       "      <td>34.8540</td>\n",
       "      <td>8.9001</td>\n",
       "      <td>21.47</td>\n",
       "      <td>3301</td>\n",
       "    </tr>\n",
       "    <tr>\n",
       "      <th>2018-08-08 04:06:12.883999825</th>\n",
       "      <td>1.533701e+09</td>\n",
       "      <td>34.8533</td>\n",
       "      <td>8.8997</td>\n",
       "      <td>21.47</td>\n",
       "      <td>3301</td>\n",
       "    </tr>\n",
       "    <tr>\n",
       "      <th>2018-08-08 04:06:13.912999868</th>\n",
       "      <td>1.533701e+09</td>\n",
       "      <td>34.8527</td>\n",
       "      <td>8.8990</td>\n",
       "      <td>21.48</td>\n",
       "      <td>3301</td>\n",
       "    </tr>\n",
       "    <tr>\n",
       "      <th>2018-08-08 04:06:14.942000151</th>\n",
       "      <td>1.533701e+09</td>\n",
       "      <td>34.8536</td>\n",
       "      <td>8.9000</td>\n",
       "      <td>21.48</td>\n",
       "      <td>3301</td>\n",
       "    </tr>\n",
       "    <tr>\n",
       "      <th>2018-08-08 04:06:15.970999956</th>\n",
       "      <td>1.533701e+09</td>\n",
       "      <td>34.8538</td>\n",
       "      <td>8.8995</td>\n",
       "      <td>21.49</td>\n",
       "      <td>3300</td>\n",
       "    </tr>\n",
       "  </tbody>\n",
       "</table>\n",
       "</div>"
      ],
      "text/plain": [
       "                                       time  conductivity  temperature  \\\n",
       "datetime                                                                 \n",
       "2018-08-08 04:06:11.855000019  1.533701e+09       34.8540       8.9001   \n",
       "2018-08-08 04:06:12.883999825  1.533701e+09       34.8533       8.8997   \n",
       "2018-08-08 04:06:13.912999868  1.533701e+09       34.8527       8.8990   \n",
       "2018-08-08 04:06:14.942000151  1.533701e+09       34.8536       8.9000   \n",
       "2018-08-08 04:06:15.970999956  1.533701e+09       34.8538       8.8995   \n",
       "\n",
       "                               pressure  oxygen  \n",
       "datetime                                         \n",
       "2018-08-08 04:06:11.855000019     21.47    3301  \n",
       "2018-08-08 04:06:12.883999825     21.47    3301  \n",
       "2018-08-08 04:06:13.912999868     21.48    3301  \n",
       "2018-08-08 04:06:14.942000151     21.48    3301  \n",
       "2018-08-08 04:06:15.970999956     21.49    3300  "
      ]
     },
     "execution_count": 109,
     "metadata": {},
     "output_type": "execute_result"
    }
   ],
   "source": [
    "df.tail()"
   ]
  },
  {
   "cell_type": "code",
   "execution_count": 110,
   "metadata": {},
   "outputs": [
    {
     "data": {
      "text/plain": [
       "time            float64\n",
       "conductivity    float64\n",
       "temperature     float64\n",
       "pressure        float64\n",
       "oxygen            int64\n",
       "dtype: object"
      ]
     },
     "execution_count": 110,
     "metadata": {},
     "output_type": "execute_result"
    }
   ],
   "source": [
    "df.dtypes"
   ]
  },
  {
   "cell_type": "code",
   "execution_count": 111,
   "metadata": {},
   "outputs": [
    {
     "data": {
      "image/png": "[encoded data removed]",
      "text/plain": [
       "<Figure size 1224x360 with 2 Axes>"
      ]
     },
     "metadata": {},
     "output_type": "display_data"
    }
   ],
   "source": [
    "fig, ax = plt.subplots(figsize=(17, 5))\n",
    "kw = dict(s=20, c=df['temperature'], marker='o', edgecolor='none')\n",
    "#cs = ax.scatter(df['datetime'], df['pressure'], **kw)\n",
    "cs = ax.scatter(df.index, df['pressure'], **kw)\n",
    "\n",
    "ax.invert_yaxis()\n",
    "ax.set_xlim(df.index[0], df.index[-1])\n",
    "\n",
    "cbar = fig.colorbar(cs, orientation='vertical', extend='both')"
   ]
  },
  {
   "cell_type": "markdown",
   "metadata": {},
   "source": [
    "**Save the data frame to a file, so I don't have to re-harvest and reprocess next time.**"
   ]
  },
  {
   "cell_type": "code",
   "execution_count": 113,
   "metadata": {},
   "outputs": [
    {
     "data": {
      "text/plain": [
       "'/home/mayorga/Desktop/OceanHackWeek2018/project'"
      ]
     },
     "execution_count": 113,
     "metadata": {},
     "output_type": "execute_result"
    }
   ],
   "source": [
    "pwd"
   ]
  },
  {
   "cell_type": "code",
   "execution_count": 114,
   "metadata": {},
   "outputs": [],
   "source": [
    "df.to_pickle('./nemo_mmb_ctd.pkl')"
   ]
  },
  {
   "cell_type": "code",
   "execution_count": null,
   "metadata": {},
   "outputs": [],
   "source": []
  }
 ],
 "metadata": {
  "kernelspec": {
   "display_name": "Python [conda env:ioosaccess]",
   "language": "python",
   "name": "conda-env-ioosaccess-py"
  },
  "language_info": {
   "codemirror_mode": {
    "name": "ipython",
    "version": 3
   },
   "file_extension": ".py",
   "mimetype": "text/x-python",
   "name": "python",
   "nbconvert_exporter": "python",
   "pygments_lexer": "ipython3",
   "version": "3.6.6"
  }
 },
 "nbformat": 4,
 "nbformat_minor": 2
}
